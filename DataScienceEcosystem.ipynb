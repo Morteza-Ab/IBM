{
 "cells": [
  {
   "cell_type": "markdown",
   "id": "7c4fa0e1",
   "metadata": {},
   "source": [
    "# Data Science Tools and Ecosystem"
   ]
  },
  {
   "cell_type": "markdown",
   "id": "30c66b7d",
   "metadata": {},
   "source": [
    "## In this notebook, Data Science Tools and Ecosystem are summarized.\n"
   ]
  },
  {
   "cell_type": "markdown",
   "id": "7ee7b62d",
   "metadata": {},
   "source": [
    "### Objectives:\n",
    "\n",
    "1. List of popular languages for Data Science\n",
    "---\n",
    "2. List of popular packages for Data Science\n",
    "---\n",
    "3. List of Data Science tools"
   ]
  },
  {
   "cell_type": "markdown",
   "id": "3dfee1e2",
   "metadata": {},
   "source": [
    "### Some of the popular languages that Data Scientists use are:\n",
    "#### 1- Python\n",
    "#### 2- R\n",
    "#### 3- Java script\n",
    "#### 4- Scala\n",
    "#### 5- Julia"
   ]
  },
  {
   "cell_type": "markdown",
   "id": "bd7a4a9e",
   "metadata": {},
   "source": [
    "### Some of the commonly used libraries used by Data Scientists include:\n",
    "##### 1- Scikitlearn\n",
    "##### 2- Caret\n",
    "##### 3- Pandas\n",
    "##### 4- Numpy\n",
    "##### 5- Seaborn\n",
    "##### 6- Plotly\n",
    "##### 7- ggplot2\n",
    "##### 8- Shiny"
   ]
  },
  {
   "cell_type": "markdown",
   "id": "a69b6eaa",
   "metadata": {},
   "source": [
    "<table>\n",
    "  <tr>\n",
    "    <th>Data Science Tools</th>\n",
    "  </tr>\n",
    "  <tr>\n",
    "    <td>Jupyter Notebook</td>\n",
    "  </tr>\n",
    "  <tr>\n",
    "    <td>RStudio</td>\n",
    "  </tr>\n",
    "  <tr>\n",
    "    <td>Spyder</td>\n",
    "  </tr>\n",
    "</table>"
   ]
  },
  {
   "cell_type": "markdown",
   "id": "38639728",
   "metadata": {},
   "source": [
    "### Below are a few examples of evaluating arithmetic expressions in Python.\n"
   ]
  },
  {
   "cell_type": "code",
   "execution_count": 14,
   "id": "6646402e",
   "metadata": {},
   "outputs": [
    {
     "data": {
      "text/plain": [
       "17"
      ]
     },
     "execution_count": 14,
     "metadata": {},
     "output_type": "execute_result"
    }
   ],
   "source": [
    "# This is a simple arithmetic expression to multiply then add integers.\n",
    "result = (3 * 4) + 5\n",
    "result"
   ]
  },
  {
   "cell_type": "code",
   "execution_count": 16,
   "id": "2a0b96e9",
   "metadata": {},
   "outputs": [
    {
     "data": {
      "text/plain": [
       "3.3333333333333335"
      ]
     },
     "execution_count": 16,
     "metadata": {},
     "output_type": "execute_result"
    }
   ],
   "source": [
    "# This will convert 200 minutes to hours by dividing by 60.\n",
    "minutes = 200\n",
    "hours = minutes / 60\n",
    "hours"
   ]
  },
  {
   "cell_type": "markdown",
   "id": "e5ae30d5",
   "metadata": {},
   "source": [
    "## Author\n",
    "\n",
    "Morteza Abyadeh"
   ]
  },
  {
   "cell_type": "code",
   "execution_count": null,
   "id": "8da0deb8",
   "metadata": {},
   "outputs": [],
   "source": []
  }
 ],
 "metadata": {
  "kernelspec": {
   "display_name": "Python 3 (ipykernel)",
   "language": "python",
   "name": "python3"
  },
  "language_info": {
   "codemirror_mode": {
    "name": "ipython",
    "version": 3
   },
   "file_extension": ".py",
   "mimetype": "text/x-python",
   "name": "python",
   "nbconvert_exporter": "python",
   "pygments_lexer": "ipython3",
   "version": "3.9.13"
  }
 },
 "nbformat": 4,
 "nbformat_minor": 5
}
